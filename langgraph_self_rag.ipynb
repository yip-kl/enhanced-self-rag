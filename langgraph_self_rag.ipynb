{
 "cells": [
  {
   "cell_type": "markdown",
   "id": "919fe33c-0149-4f7d-b200-544a18986c9a",
   "metadata": {},
   "source": [
    "# Enhanced Self-RAG"
   ]
  },
  {
   "cell_type": "markdown",
   "id": "72f3ee57-68ab-4040-bd36-4014e2a23d96",
   "metadata": {},
   "source": [
    "## Setup\n",
    "\n",
    "First let's install our required packages and set our API keys"
   ]
  },
  {
   "cell_type": "code",
   "execution_count": 3,
   "id": "f9841126",
   "metadata": {},
   "outputs": [],
   "source": [
    "from dotenv import load_dotenv\n",
    "import pprint\n",
    "from uuid import uuid4"
   ]
  },
  {
   "cell_type": "code",
   "execution_count": 4,
   "id": "de4ee2a5",
   "metadata": {},
   "outputs": [
    {
     "data": {
      "text/plain": [
       "True"
      ]
     },
     "execution_count": 4,
     "metadata": {},
     "output_type": "execute_result"
    }
   ],
   "source": [
    "# Make sure you have OPENAI_API_BASE and OPENAI_API_KEY defined as environment variables e.g. in a .env file\n",
    "# Feel free to substitute with other services e.g. OpenRouter\n",
    "load_dotenv()"
   ]
  },
  {
   "cell_type": "markdown",
   "id": "946e0719",
   "metadata": {},
   "source": [
    "Define the embedding model and LLM we want to use"
   ]
  },
  {
   "cell_type": "code",
   "execution_count": 5,
   "id": "d8f09bfe",
   "metadata": {},
   "outputs": [],
   "source": [
    "embedding_model = \"all-MiniLM-L6-v2\"\n",
    "llm_model = \"anthropic/claude-3.5-sonnet\" # You can choose another model, but please make sure \"tools\" is a supported parameter"
   ]
  },
  {
   "cell_type": "code",
   "execution_count": 6,
   "id": "04728a0a",
   "metadata": {},
   "outputs": [
    {
     "data": {
      "text/plain": [
       "AIMessage(content='Hi! How can I help you today?', additional_kwargs={'refusal': None}, response_metadata={'token_usage': {'completion_tokens': 13, 'prompt_tokens': 8, 'total_tokens': 21, 'completion_tokens_details': None, 'prompt_tokens_details': None}, 'model_name': 'anthropic/claude-3.5-sonnet', 'system_fingerprint': None, 'finish_reason': 'stop', 'logprobs': None}, id='run-35c7ede5-f8ef-4d72-aa39-13904d395c92-0', usage_metadata={'input_tokens': 8, 'output_tokens': 13, 'total_tokens': 21, 'input_token_details': {}, 'output_token_details': {}})"
      ]
     },
     "execution_count": 6,
     "metadata": {},
     "output_type": "execute_result"
    }
   ],
   "source": [
    "from langchain_openai import ChatOpenAI\n",
    "\n",
    "# I am using temperature 0 to get more deterministic results\n",
    "llm = ChatOpenAI(model=llm_model, temperature=0)\n",
    "llm.invoke(\"hello\")"
   ]
  },
  {
   "cell_type": "markdown",
   "id": "a6ded9f2",
   "metadata": {},
   "source": [
    "## Retriever\n",
    " \n",
    "Let's index the 2 webpages I have mentioned in the article"
   ]
  },
  {
   "cell_type": "code",
   "execution_count": 7,
   "id": "7f441189",
   "metadata": {},
   "outputs": [
    {
     "name": "stderr",
     "output_type": "stream",
     "text": [
      "USER_AGENT environment variable not set, consider setting it to identify your requests.\n"
     ]
    }
   ],
   "source": [
    "from langchain.text_splitter import RecursiveCharacterTextSplitter\n",
    "from langchain_community.document_loaders import WebBaseLoader\n",
    "from langchain_chroma import Chroma\n",
    "from langchain_huggingface import HuggingFaceEmbeddings\n",
    "\n",
    "urls = [\n",
    "    \"https://www.eu-startups.com/2024/04/comparative-analysis-eu-vs-us-flight-compensation-policies-sponsored/\",\n",
    "    \"https://www.geodatos.net/en/distances/cities/germany/bavaria/munich\"\n",
    "]\n",
    "\n",
    "docs = [WebBaseLoader(url).load() for url in urls]\n",
    "docs_list = [item for sublist in docs for item in sublist]\n",
    "\n",
    "text_splitter = RecursiveCharacterTextSplitter.from_tiktoken_encoder(\n",
    "    chunk_size=250, chunk_overlap=0\n",
    ")\n",
    "doc_splits = text_splitter.split_documents(docs_list)\n",
    "\n",
    "# Add to vectorDB\n",
    "vectorstore = Chroma.from_documents(\n",
    "    documents=doc_splits,\n",
    "    collection_name=\"rag-chroma\",\n",
    "    embedding=HuggingFaceEmbeddings(model_name=embedding_model)\n",
    ")\n",
    "\n",
    "retriever = vectorstore.as_retriever()"
   ]
  },
  {
   "cell_type": "code",
   "execution_count": 8,
   "id": "565a6d44-2c9f-4fff-b1ec-eea05df9350d",
   "metadata": {},
   "outputs": [
    {
     "name": "stdout",
     "output_type": "stream",
     "text": [
      "-------------------------------------------------\n",
      "Overview of US Flight Compensation Policies\n",
      "To get compensation for delayed flights, you should contact your airline via their customer service or go to the customer service desk. At the same time, you should bear in mind that you will only receive compensation if the delay is not weather-related and is within the carrier`s control.\n",
      "According to the US Department of Transportation, US airlines are not required to compensate you if a flight is cancelled or delayed. You can be compensated if you are bumped or moved from an overbooked flight.\n",
      "If your provider cancels your flight less than two weeks before departure and you decide to cancel your trip entirely, you can receive a refund of both pre-paid baggage fees and your plane ticket. There will be no refund if you choose to continue your journey.\n",
      "In the case of a delayed flight, the airline will rebook you on a different flight. According to federal law, you will not be provided with money or other compensation.\n",
      "Comparative Analysis of EU vs. US Flight Compensation Policies\n",
      "-------------------------------------------------\n",
      "Short-distance flight delays – if it is up to 1,500 km, you are due 250 Euro compensation.\n",
      "Medium distance flight delays – for all the flights between 1,500 and 3,500 km, the compensation should be 400 Euro.\n",
      " Long-distance flight delays – if it is over 3,500 km, you are due 600 Euro compensation.\n",
      "\n",
      "To receive this kind of compensation, the following conditions must be met;\n",
      "\n",
      "Your flight starts in a non-EU member state or in an EU member state and finishes in an EU member state and is organised by an EU airline.\n",
      "Your flight reaches the final destination with a delay that exceeds three hours.\n",
      "There is no force majeure.\n",
      "-------------------------------------------------\n",
      "Compensation policies in the EU and US are not the same, which implies that it is worth knowing more about them. While you can always count on Skycop flight cancellation compensation, you should still get acquainted with the information below.\n",
      "-------------------------------------------------\n",
      "Compensation for flight regulations\n",
      "\n",
      "EU: The EU does regulate flight delay compensation, which is known as EU261.\n",
      "US: According to the US Department of Transportation, every airline has its own policies about what should be done for delayed passengers.\n",
      "\n",
      "Compensation for flight delays\n",
      "\n",
      "EU: Just like in the United States, compensation is not provided when the flight is delayed due to uncontrollable reasons. However, there is a clear approach to compensation calculation based on distance. For example, if your flight was up to 1,500 km, you can receive 250 euros.\n",
      "US: There are no federal requirements. That is why every airline sets its own limits for compensation in terms of length. However, it is usually set at three hours.\n",
      "\n",
      "Overbooking\n",
      "\n",
      "EU: In the EU, they call for volunteers if the flight is overbooked. These people are entitled to a choice of:\n",
      "\n",
      "Re-routing to their final destination at the earliest opportunity.\n",
      "Refund of their ticket cost within a week if not travelling.\n",
      "Re-routing at a later date at the person`s convenience.\n"
     ]
    }
   ],
   "source": [
    "# Test the retriever\n",
    "docs = retriever.invoke(\"how much can I receive if I am denied boarding, for flights from Delhi to Munich?\")\n",
    "for d in docs:\n",
    "    print(\"-------------------------------------------------\\n\"+d.page_content)"
   ]
  },
  {
   "cell_type": "markdown",
   "id": "29c12f74-53e2-43cc-896f-875d1c5d9d93",
   "metadata": {},
   "source": [
    "## LLMs"
   ]
  },
  {
   "cell_type": "code",
   "execution_count": 9,
   "id": "1fafad21-60cc-483e-92a3-6a7edb1838e3",
   "metadata": {},
   "outputs": [
    {
     "name": "stdout",
     "output_type": "stream",
     "text": [
      "binary_score='no'\n"
     ]
    }
   ],
   "source": [
    "### Retrieval Grader\n",
    "from langchain_core.prompts import ChatPromptTemplate\n",
    "from pydantic import BaseModel, Field\n",
    "\n",
    "# Data model\n",
    "class GradeDocuments(BaseModel):\n",
    "    \"\"\"Binary score for relevance check on retrieved documents.\"\"\"\n",
    "\n",
    "    binary_score: str = Field(\n",
    "        description=\"Documents are relevant to the question, 'yes' or 'no'\"\n",
    "    )\n",
    "\n",
    "\n",
    "# LLM with function call\n",
    "structured_llm_grader = llm.with_structured_output(schema=GradeDocuments, method='function_calling')\n",
    "\n",
    "# Prompt\n",
    "system = \"\"\"You are a grader assessing relevance of a retrieved document to the questions. \\n \n",
    "    It does not need to be a stringent test. The goal is to filter out erroneous retrievals. \\n\n",
    "    If the document contains keyword(s) or semantic meaning related to the questions, grade it as relevant. Think step by step\\n\n",
    "    Give a binary score 'yes' or 'no' score to indicate whether the document is relevant to the question.\"\"\"\n",
    "grade_prompt = ChatPromptTemplate.from_messages(\n",
    "    [\n",
    "        (\"system\", system),\n",
    "        (\"human\", \"Retrieved document: \\n\\n {document} \\n\\n Questions: {questions}\"),\n",
    "    ]\n",
    ")\n",
    "\n",
    "retrieval_grader = grade_prompt | structured_llm_grader\n",
    "questions = \"what's the denied boarding compensation for medium haul flights?\"\n",
    "docs = retriever.invoke(questions)\n",
    "doc_txt = docs[0].page_content\n",
    "print(retrieval_grader.invoke({\"questions\": questions, \"document\": doc_txt}))"
   ]
  },
  {
   "cell_type": "code",
   "execution_count": 10,
   "id": "dcd77cc1-4587-40ec-b633-5364eab9e1ec",
   "metadata": {},
   "outputs": [
    {
     "name": "stdout",
     "output_type": "stream",
     "text": [
      "From the provided context, I cannot determine the specific denied boarding compensation amount for medium haul flights. While the context mentions that compensation in the EU is calculated based on distance (with an example of 250 euros for flights up to 1,500 km), it doesn't explicitly state the compensation amount for medium haul flights. The context mainly discusses general differences between EU and US compensation policies and doesn't provide complete details about compensation amounts for different flight distances.\n"
     ]
    }
   ],
   "source": [
    "### Generate\n",
    "from langchain_core.prompts import PromptTemplate\n",
    "\n",
    "# Prompt. Copied from prompty_library/chat.prompty\n",
    "prompt = PromptTemplate.from_template(\"\"\"\n",
    "You are an assistant for question-answering tasks. Use the following pieces of retrieved context to answer the question.\n",
    "Do not make things up. If the answer is not in the context, say that you don't know.\n",
    "\n",
    "Question: {question} \n",
    "Context: {context} \n",
    "Answer:\n",
    "\"\"\")\n",
    "\n",
    "# Chain\n",
    "rag_chain = prompt | llm\n",
    "\n",
    "# Run\n",
    "generation = rag_chain.invoke({\"context\": docs, \"question\": questions})\n",
    "print(generation.content)"
   ]
  },
  {
   "cell_type": "code",
   "execution_count": 11,
   "id": "e78931ec-940c-46ad-a0b2-f43f953f1fd7",
   "metadata": {},
   "outputs": [
    {
     "data": {
      "text/plain": [
       "GradeHallucinations(binary_score='yes')"
      ]
     },
     "execution_count": 11,
     "metadata": {},
     "output_type": "execute_result"
    }
   ],
   "source": [
    "### Hallucination Grader\n",
    "\n",
    "# Data model\n",
    "class GradeHallucinations(BaseModel):\n",
    "    \"\"\"Binary score for hallucination present in generation answer.\"\"\"\n",
    "\n",
    "    binary_score: str = Field(\n",
    "        description=\"Answer is grounded in the facts, 'yes' or 'no'\"\n",
    "    )\n",
    "\n",
    "# LLM with function call\n",
    "structured_llm_grader = llm.with_structured_output(schema=GradeHallucinations, method='function_calling')\n",
    "\n",
    "# Prompt\n",
    "system = \"\"\"You are a grader assessing whether an LLM generation is grounded in / supported by a set of retrieved facts. \\n \n",
    "     Give a binary score 'yes' or 'no'. 'Yes' means that the answer is grounded in / supported by the set of facts. Think step by step.\"\"\"\n",
    "hallucination_prompt = ChatPromptTemplate.from_messages(\n",
    "    [\n",
    "        (\"system\", system),\n",
    "        (\"human\", \"Set of facts: \\n\\n {useful_documents} \\n\\n LLM generation: {generation}\"),\n",
    "    ]\n",
    ")\n",
    "\n",
    "hallucination_grader = hallucination_prompt | structured_llm_grader\n",
    "hallucination_grader.invoke({\"useful_documents\": docs, \"generation\": generation})"
   ]
  },
  {
   "cell_type": "code",
   "execution_count": 12,
   "id": "bd62276f-bf26-40d0-8cff-e07b10e00321",
   "metadata": {},
   "outputs": [
    {
     "data": {
      "text/plain": [
       "GradeAnswer(binary_score='no')"
      ]
     },
     "execution_count": 12,
     "metadata": {},
     "output_type": "execute_result"
    }
   ],
   "source": [
    "### Answer Grader\n",
    "\n",
    "# Data model\n",
    "class GradeAnswer(BaseModel):\n",
    "    \"\"\"Binary score to assess answer addresses question.\"\"\"\n",
    "\n",
    "    binary_score: str = Field(\n",
    "        description=\"Answer addresses the question, 'yes' or 'no'\"\n",
    "    )\n",
    "\n",
    "\n",
    "# LLM with function call\n",
    "structured_llm_grader = llm.with_structured_output(schema=GradeAnswer, method='function_calling')\n",
    "\n",
    "# Prompt\n",
    "system = \"\"\"You are a grader assessing whether an answer addresses / resolves a question \\n \n",
    "     Give a binary score 'yes' or 'no'. Yes' means that the answer resolves the question.\"\"\"\n",
    "answer_prompt = ChatPromptTemplate.from_messages(\n",
    "    [\n",
    "        (\"system\", system),\n",
    "        (\"human\", \"User question: \\n\\n {question} \\n\\n LLM generation: {generation}\"),\n",
    "    ]\n",
    ")\n",
    "\n",
    "answer_grader = answer_prompt | structured_llm_grader\n",
    "answer_grader.invoke({\"question\": questions, \"generation\": generation})"
   ]
  },
  {
   "cell_type": "code",
   "execution_count": 13,
   "id": "c6f4c70e-1660-4149-82c0-837f19fc9fb5",
   "metadata": {},
   "outputs": [
    {
     "data": {
      "text/plain": [
       "['What are the compensation amounts for denied boarding on medium haul flights?',\n",
       " 'What is considered a medium haul flight in terms of distance or duration?',\n",
       " 'What are the conditions for receiving denied boarding compensation?',\n",
       " 'Are there different compensation tiers based on the delay length for medium haul flights?',\n",
       " 'What documentation is needed to claim denied boarding compensation for medium haul flights?']"
      ]
     },
     "execution_count": 13,
     "metadata": {},
     "output_type": "execute_result"
    }
   ],
   "source": [
    "### Question Re-writer\n",
    "from typing import List\n",
    "\n",
    "class NewQueries(BaseModel):\n",
    "    \"\"\"New question to issue against vectorstore\"\"\"\n",
    "\n",
    "    new_queries: List[str] = Field(\n",
    "        description=\"New questions to issue against vectorstore\"\n",
    "    )\n",
    "\n",
    "high_temp_llm = llm.model_copy()\n",
    "high_temp_llm.temperature = 0.5\n",
    "structured_llm_rewriter = high_temp_llm.with_structured_output(schema=NewQueries, method='function_calling')\n",
    "\n",
    "# Prompt\n",
    "system = \"\"\"You a question re-writer that raise multiple follow-up questions, for retrieving missing data in answering the initial question, given the known context.\n",
    "            Look at the initial question and try to reason about the underlying semantic intent / meaning\n",
    "            \n",
    "            Think step by step when formulating the new question, also considering the hypothesis.\n",
    "            Ensure the new questions are different from what had been issued before.\n",
    "\n",
    "            Returns empty list if no new questions can be formulated.\n",
    "            \"\"\"\n",
    "re_write_prompt = ChatPromptTemplate.from_messages(\n",
    "    [\n",
    "        (\"system\", system),\n",
    "        (\n",
    "            \"human\",\n",
    "            \"\"\"\n",
    "            Here is the initial question: \\n\\n {question} \\n\n",
    "            Hypothesis: \\n\\n {hypothesis} \\n\n",
    "            Questions that have been issued before: \\n\\n {new_queries} \\n\n",
    "            Known context: \\n\\n {useful_documents} \\n\n",
    "\n",
    "            Formulate new questions.\n",
    "            \"\"\",\n",
    "        ),\n",
    "    ]\n",
    ")\n",
    "\n",
    "question_rewriter = re_write_prompt | structured_llm_rewriter\n",
    "\n",
    "# Run\n",
    "new_queries = \"\"\n",
    "useful_documents = \"\"\n",
    "hypothesis = \"\"\n",
    "new_queries = question_rewriter.invoke({\"question\": questions, \"new_queries\": new_queries, \"useful_documents\": useful_documents, \"hypothesis\": hypothesis}).new_queries\n",
    "new_queries"
   ]
  },
  {
   "cell_type": "markdown",
   "id": "276001c5-c079-4e5b-9f42-81a06704d200",
   "metadata": {},
   "source": [
    "# Graph \n",
    "\n",
    "Capture the flow in as a graph.\n",
    "\n",
    "## Graph state"
   ]
  },
  {
   "cell_type": "code",
   "execution_count": 14,
   "id": "f1617e9e-66a8-4c1a-a1fe-cc936284c085",
   "metadata": {},
   "outputs": [],
   "source": [
    "from typing import List, Annotated\n",
    "from typing_extensions import TypedDict\n",
    "\n",
    "def append_to_list(original: list, new: list) -> list:\n",
    "    original.append(new)\n",
    "    return original\n",
    "\n",
    "def combine_list(original: list, new: list) -> list:\n",
    "    return original + new\n",
    "\n",
    "class GraphState(TypedDict):\n",
    "    \"\"\"\n",
    "    Represents the state of our graph.\n",
    "\n",
    "    Attributes:\n",
    "        question: question\n",
    "        generation: LLM generation\n",
    "        new_documents: newly retrieved documents for the current iteration\n",
    "        useful_documents: documents that are considered useful\n",
    "        graded_documents: documents that have been graded\n",
    "        new_queries: newly generated questions\n",
    "        hypothesis: hypothesis\n",
    "    \"\"\"\n",
    "\n",
    "    question: str\n",
    "    generation: str\n",
    "    new_documents: List[str]\n",
    "    useful_documents: Annotated[List[str], combine_list]\n",
    "    graded_documents: List[str]\n",
    "    new_queries: Annotated[List[str], append_to_list]\n",
    "    hypothesis: str"
   ]
  },
  {
   "cell_type": "code",
   "execution_count": 15,
   "id": "add509d8-6682-4127-8d95-13dd37d79702",
   "metadata": {},
   "outputs": [],
   "source": [
    "### Nodes\n",
    "\n",
    "def retrieve(state):\n",
    "    \"\"\"\n",
    "    Retrieve documents\n",
    "\n",
    "    Args:\n",
    "        state (dict): The current graph state\n",
    "\n",
    "    Returns:\n",
    "        state (dict): New key added to state, documents, that contains retrieved documents\n",
    "    \"\"\"\n",
    "    print(\"---RETRIEVE---\")\n",
    "    if not state.get(\"new_queries\", \"\"):\n",
    "        state[\"new_queries\"] = [[state[\"question\"]]]\n",
    "    new_queries_to_vector_store = state[\"new_queries\"][-1]\n",
    "\n",
    "    # Retrieval\n",
    "    new_documents = []\n",
    "    for q in new_queries_to_vector_store:\n",
    "        new_documents += retriever.invoke(q)\n",
    "\n",
    "    # Keep only the documents with unique id\n",
    "    unique_new_docs = []\n",
    "    unique_ids = []\n",
    "    for doc in new_documents:\n",
    "        doc_id = doc.id\n",
    "        if doc_id not in unique_ids:\n",
    "            unique_ids.append(doc_id)\n",
    "            unique_new_docs.append(doc)\n",
    "\n",
    "    # Remove the metadata.@search.captions field, which causes the error \"Object of type QueryCaptionResult is not serializable\"\n",
    "    for doc in unique_new_docs:\n",
    "        search_captions = doc.metadata.get(\"@search.captions\",\"\")\n",
    "        if search_captions:\n",
    "            del doc.metadata[\"@search.captions\"]\n",
    "\n",
    "    return {\"new_documents\": unique_new_docs}\n",
    "\n",
    "\n",
    "def generate(state):\n",
    "    \"\"\"\n",
    "    Generate answer\n",
    "\n",
    "    Args:\n",
    "        state (dict): The current graph state\n",
    "\n",
    "    Returns:\n",
    "        state (dict): New key added to state, generation, that contains LLM generation\n",
    "    \"\"\"\n",
    "    print(\"---GENERATE---\")\n",
    "    question = state[\"question\"]\n",
    "    useful_documents = state[\"useful_documents\"]\n",
    "\n",
    "    # RAG generation\n",
    "    generation = rag_chain.invoke({\"context\": '\\n'.join([d.page_content for d in useful_documents]), \"question\": question})\n",
    "    return {\"generation\": generation.content}\n",
    "\n",
    "\n",
    "def grade_documents(state):\n",
    "    \"\"\"\n",
    "    Determines whether the retrieved documents are relevant to the question.\n",
    "\n",
    "    Args:\n",
    "        state (dict): The current graph state\n",
    "\n",
    "    Returns:\n",
    "        state (dict): Updates documents key with only filtered relevant documents\n",
    "    \"\"\"\n",
    "\n",
    "    print(\"---CHECK DOCUMENT RELEVANCE TO QUESTION---\")\n",
    "    questions = [[state[\"question\"]]] + state[\"new_queries\"]\n",
    "    questions_to_string = '\\n'.join([q for sublist in questions for q in sublist])\n",
    "    \n",
    "    new_documents = state[\"new_documents\"]\n",
    "    graded_documents = state.get(\"graded_documents\", [])\n",
    "\n",
    "    # Score each doc\n",
    "    filtered_docs = []\n",
    "    graded_docs_ids = [d.id for d in graded_documents]\n",
    "    for d in new_documents:\n",
    "        # Check if the document has already been graded\n",
    "        if d.id in graded_docs_ids:\n",
    "            continue\n",
    "        else:\n",
    "            # Grade the document\n",
    "            score = retrieval_grader.invoke(\n",
    "                {\"questions\": questions_to_string, \"document\": d.page_content}\n",
    "            )\n",
    "            grade = score.binary_score\n",
    "\n",
    "            # Add the document to the graded list\n",
    "            graded_documents.append(d)\n",
    "\n",
    "            # Add useful documents to the list\n",
    "            if grade == \"yes\":\n",
    "                print(\"---GRADE: DOCUMENT RELEVANT---\")\n",
    "                filtered_docs.append(d)\n",
    "            else:\n",
    "                print(\"---GRADE: DOCUMENT NOT RELEVANT---\")\n",
    "                continue\n",
    "\n",
    "    # Generate hypothesis\n",
    "    hypothesis = llm.invoke(f\"\"\"\n",
    "        Given context, form hypothesis for the information you need to answer user's question.\n",
    "\n",
    "        Context: {[c.page_content for c in state[\"useful_documents\"] + state[\"new_documents\"]]}\n",
    "        User's question: {state[\"question\"]}\n",
    "        Hypothesis:\n",
    "        \"\"\").content\n",
    "\n",
    "    return {\"useful_documents\": filtered_docs, \"graded_documents\": graded_documents, \"hypothesis\": hypothesis}\n",
    "\n",
    "\n",
    "def transform_query(state):\n",
    "    \"\"\"\n",
    "    Transform the query to produce a better question.\n",
    "\n",
    "    Args:\n",
    "        state (dict): The current graph state\n",
    "\n",
    "    Returns:\n",
    "        state (dict): Updates question key with a re-phrased question\n",
    "    \"\"\"\n",
    "\n",
    "    print(\"---TRANSFORM QUERY---\")\n",
    "\n",
    "\n",
    "    # Re-write question\n",
    "    new_queries = question_rewriter.invoke({\n",
    "        \"question\": state[\"question\"],\n",
    "        \"new_queries\": state[\"new_queries\"],\n",
    "        \"useful_documents\": '\\n'.join([d.page_content for d in state[\"useful_documents\"]]),\n",
    "        \"hypothesis\": state[\"hypothesis\"]\n",
    "        })\n",
    "    return {\"new_queries\": new_queries.new_queries}\n",
    "\n",
    "\n",
    "### Edges\n",
    "\n",
    "\n",
    "def decide_to_generate(state):\n",
    "    \"\"\"\n",
    "    Determines whether to generate an answer, or re-generate a question.\n",
    "\n",
    "    Args:\n",
    "        state (dict): The current graph state\n",
    "\n",
    "    Returns:\n",
    "        str: Binary decision for next node to call\n",
    "    \"\"\"\n",
    "\n",
    "    print(\"---ASSESS GRADED DOCUMENTS---\")\n",
    "    state[\"question\"]\n",
    "    filtered_documents = state[\"useful_documents\"]\n",
    "\n",
    "    if not filtered_documents:\n",
    "        # All documents have been filtered check_relevance\n",
    "        # We will re-generate a new query\n",
    "        print(\n",
    "            \"---DECISION: ALL DOCUMENTS ARE NOT RELEVANT TO QUESTION, TRANSFORM QUERY---\"\n",
    "        )\n",
    "        return \"transform_query\"\n",
    "    else:\n",
    "        # We have relevant documents, so generate answer\n",
    "        print(\"---DECISION: GENERATE---\")\n",
    "        return \"generate\"\n",
    "\n",
    "\n",
    "def grade_generation_v_documents_and_question(state):\n",
    "    \"\"\"\n",
    "    Determines whether the generation is grounded in the document and answers question.\n",
    "\n",
    "    Args:\n",
    "        state (dict): The current graph state\n",
    "\n",
    "    Returns:\n",
    "        str: Decision for next node to call\n",
    "    \"\"\"\n",
    "\n",
    "    print(\"---CHECK HALLUCINATIONS---\")\n",
    "    question = state[\"question\"]\n",
    "    useful_documents = state[\"useful_documents\"]\n",
    "    generation = state[\"generation\"]\n",
    "\n",
    "    score = hallucination_grader.invoke(\n",
    "        {\"useful_documents\": '\\n'.join([d.page_content for d in useful_documents]), \"generation\": generation}\n",
    "    )\n",
    "    grade = score.binary_score\n",
    "\n",
    "    # Check hallucination\n",
    "    if grade == \"yes\":\n",
    "        print(\"---DECISION: GENERATION IS GROUNDED IN DOCUMENTS---\")\n",
    "        # Check question-answering\n",
    "        print(\"---GRADE GENERATION vs QUESTION---\")\n",
    "        score = answer_grader.invoke({\"question\": question, \"generation\": generation})\n",
    "        grade = score.binary_score\n",
    "        if grade == \"yes\":\n",
    "            print(\"---DECISION: GENERATION ADDRESSES QUESTION---\")\n",
    "            return \"useful\"\n",
    "        else:\n",
    "            print(\"---DECISION: GENERATION DOES NOT ADDRESS QUESTION---\")\n",
    "            return \"not useful\"\n",
    "    else:\n",
    "        pprint(\"---DECISION: GENERATION IS NOT GROUNDED IN DOCUMENTS, RE-TRY---\")\n",
    "        return \"not supported\""
   ]
  },
  {
   "cell_type": "markdown",
   "id": "61cd5797-1782-4d78-a277-8196d13f3e1b",
   "metadata": {},
   "source": [
    "## Build Graph\n",
    "\n",
    "The just follows the flow we outlined in the figure above."
   ]
  },
  {
   "cell_type": "code",
   "execution_count": 16,
   "id": "0e09ca9f-e36d-4ef4-a0d5-79fdbada9fe0",
   "metadata": {},
   "outputs": [
    {
     "data": {
      "image/png": "[encoded data removed]",
      "text/plain": [
       "<IPython.core.display.Image object>"
      ]
     },
     "metadata": {},
     "output_type": "display_data"
    }
   ],
   "source": [
    "from langgraph.graph import END, StateGraph, START\n",
    "from langgraph.checkpoint.memory import MemorySaver\n",
    "from IPython.display import Image, display\n",
    "\n",
    "workflow = StateGraph(GraphState)\n",
    "\n",
    "# Define the nodes\n",
    "workflow.add_node(\"retrieve\", retrieve)  # retrieve\n",
    "workflow.add_node(\"grade_documents\", grade_documents)  # grade documents\n",
    "workflow.add_node(\"generate\", generate)  # generatae\n",
    "workflow.add_node(\"transform_query\", transform_query)  # transform_query\n",
    "\n",
    "# Build graph\n",
    "workflow.add_edge(START, \"retrieve\")\n",
    "workflow.add_edge(\"retrieve\", \"grade_documents\")\n",
    "workflow.add_conditional_edges(\n",
    "    \"grade_documents\",\n",
    "    decide_to_generate,\n",
    "    {\n",
    "        \"transform_query\": \"transform_query\",\n",
    "        \"generate\": \"generate\",\n",
    "    },\n",
    ")\n",
    "workflow.add_edge(\"transform_query\", \"retrieve\")\n",
    "workflow.add_conditional_edges(\n",
    "    \"generate\",\n",
    "    grade_generation_v_documents_and_question,\n",
    "    {\n",
    "        \"useful\": END,\n",
    "        \"not supported\": \"transform_query\",\n",
    "        \"not useful\": \"transform_query\",\n",
    "    },\n",
    ")\n",
    "\n",
    "# Compile\n",
    "memory = MemorySaver()\n",
    "app = workflow.compile(checkpointer=memory)\n",
    "display(Image(app.get_graph(xray=True).draw_mermaid_png()))"
   ]
  },
  {
   "cell_type": "markdown",
   "id": "2088ac6a",
   "metadata": {},
   "source": [
    "Note: The graph as a recursion limit of 25"
   ]
  },
  {
   "cell_type": "markdown",
   "id": "e52e699d",
   "metadata": {},
   "source": [
    "## Putting it to test"
   ]
  },
  {
   "cell_type": "code",
   "execution_count": 20,
   "id": "fb69dbb9-91ee-4868-8c3c-93af3cd885be",
   "metadata": {},
   "outputs": [
    {
     "name": "stdout",
     "output_type": "stream",
     "text": [
      "---RETRIEVE---\n",
      "\"Node 'retrieve':\"\n",
      "'\\n---\\n'\n",
      "---CHECK DOCUMENT RELEVANCE TO QUESTION---\n",
      "---GRADE: DOCUMENT NOT RELEVANT---\n",
      "---GRADE: DOCUMENT RELEVANT---\n",
      "---GRADE: DOCUMENT NOT RELEVANT---\n",
      "---GRADE: DOCUMENT NOT RELEVANT---\n",
      "---ASSESS GRADED DOCUMENTS---\n",
      "---DECISION: GENERATE---\n",
      "\"Node 'grade_documents':\"\n",
      "'\\n---\\n'\n",
      "---GENERATE---\n",
      "---CHECK HALLUCINATIONS---\n",
      "'---DECISION: GENERATION IS NOT GROUNDED IN DOCUMENTS, RE-TRY---'\n",
      "\"Node 'generate':\"\n",
      "'\\n---\\n'\n",
      "---TRANSFORM QUERY---\n",
      "\"Node 'transform_query':\"\n",
      "'\\n---\\n'\n",
      "---RETRIEVE---\n",
      "\"Node 'retrieve':\"\n",
      "'\\n---\\n'\n",
      "---CHECK DOCUMENT RELEVANCE TO QUESTION---\n",
      "---GRADE: DOCUMENT NOT RELEVANT---\n",
      "---GRADE: DOCUMENT NOT RELEVANT---\n",
      "---GRADE: DOCUMENT RELEVANT---\n",
      "---GRADE: DOCUMENT NOT RELEVANT---\n",
      "---GRADE: DOCUMENT NOT RELEVANT---\n",
      "---GRADE: DOCUMENT NOT RELEVANT---\n",
      "---GRADE: DOCUMENT NOT RELEVANT---\n",
      "---ASSESS GRADED DOCUMENTS---\n",
      "---DECISION: GENERATE---\n",
      "\"Node 'grade_documents':\"\n",
      "'\\n---\\n'\n",
      "---GENERATE---\n",
      "---CHECK HALLUCINATIONS---\n",
      "---DECISION: GENERATION IS GROUNDED IN DOCUMENTS---\n",
      "---GRADE GENERATION vs QUESTION---\n",
      "---DECISION: GENERATION ADDRESSES QUESTION---\n",
      "\"Node 'generate':\"\n",
      "'\\n---\\n'\n",
      "('Based on the context provided, the flight distance from Munich to Delhi is '\n",
      " '5,931 km, which falls into the long-distance category (over 3,500 km). '\n",
      " 'Therefore, if you are denied boarding on a flight from Delhi to Munich '\n",
      " 'operated by an EU airline, you would be eligible for 600 Euro compensation, '\n",
      " 'provided that:\\n'\n",
      " '1. The flight is operated by an EU airline\\n'\n",
      " '2. There is no force majeure\\n'\n",
      " '3. Other applicable conditions are met\\n'\n",
      " '\\n'\n",
      " \"However, it's important to note that this compensation amount is only valid \"\n",
      " 'if all the required conditions are met as specified in the regulations.')\n"
     ]
    }
   ],
   "source": [
    "from pprint import pprint\n",
    "config = {\"configurable\": {\"thread_id\": str(uuid4())}}\n",
    "\n",
    "# Run\n",
    "inputs = {\n",
    "    \"question\": \"how much can I receive if I am denied boarding, for flights from Delhi to Munich?\",\n",
    "    }\n",
    "for output in app.stream(inputs, config):\n",
    "    for key, value in output.items():\n",
    "        # Node\n",
    "        pprint(f\"Node '{key}':\")\n",
    "        # Optional: print full state at each node\n",
    "        # print(app.get_state(config).values)\n",
    "    pprint(\"\\n---\\n\")\n",
    "\n",
    "# Final generation\n",
    "pprint(value[\"generation\"])"
   ]
  },
  {
   "cell_type": "markdown",
   "id": "4f840209",
   "metadata": {},
   "source": [
    "Inspecting the state"
   ]
  },
  {
   "cell_type": "code",
   "execution_count": 22,
   "id": "ab230fa4",
   "metadata": {},
   "outputs": [
    {
     "name": "stdout",
     "output_type": "stream",
     "text": [
      "To answer this question accurately, I need to determine:\n",
      "\n",
      "1. Is this flight operated by an EU airline? (Since Delhi is non-EU and Munich is EU)\n",
      "2. What is the flight distance between Delhi and Munich? (To determine compensation amount)\n",
      "3. Are we dealing with a denied boarding situation due to overbooking? (As opposed to delay/cancellation)\n",
      "\n",
      "From the context, I can find information about compensation amounts based on distance, but I need to verify:\n",
      "- If the flight meets EU compensation eligibility criteria\n",
      "- The exact distance between Delhi and Munich to determine which compensation tier applies (250€, 400€, or 600€)\n",
      "- If denied boarding compensation follows the same amounts as delay compensation\n",
      "\n",
      "The context doesn't explicitly state compensation amounts specifically for denied boarding, though it mentions overbooking situations in the EU require offering volunteers re-routing or refund options.\n",
      "\n",
      "Would you like me to proceed with the information available, or would you need additional context about denied boarding compensation specifically?\n"
     ]
    }
   ],
   "source": [
    "print(app.get_state(config).values.get('hypothesis',\"\"))"
   ]
  },
  {
   "cell_type": "code",
   "execution_count": 23,
   "id": "9d055c8f",
   "metadata": {},
   "outputs": [
    {
     "name": "stdout",
     "output_type": "stream",
     "text": [
      "What is the flight distance between Delhi and Munich?\n",
      "Does EU denied boarding compensation follow the same amounts as flight delay compensation?\n",
      "Are there specific compensation rules for denied boarding versus flight delays for flights from non-EU to EU destinations?\n",
      "What are the compensation rules when flying with non-EU airlines from Delhi to Munich?\n",
      "What are the specific conditions that qualify as denied boarding under EU regulations?\n"
     ]
    }
   ],
   "source": [
    "for questions_batch in app.get_state(config).values.get('new_queries',\"\"):\n",
    "    for q in questions_batch:\n",
    "        print(q)"
   ]
  }
 ],
 "metadata": {
  "kernelspec": {
   "display_name": "venv",
   "language": "python",
   "name": "python3"
  },
  "language_info": {
   "codemirror_mode": {
    "name": "ipython",
    "version": 3
   },
   "file_extension": ".py",
   "mimetype": "text/x-python",
   "name": "python",
   "nbconvert_exporter": "python",
   "pygments_lexer": "ipython3",
   "version": "3.12.8"
  }
 },
 "nbformat": 4,
 "nbformat_minor": 5
}
